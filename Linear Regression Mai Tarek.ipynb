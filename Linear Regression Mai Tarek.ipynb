{
 "cells": [
  {
   "cell_type": "markdown",
   "metadata": {},
   "source": [
    "# Import Libraries"
   ]
  },
  {
   "cell_type": "code",
   "execution_count": 199,
   "metadata": {},
   "outputs": [],
   "source": [
    "import numpy as np\n",
    "import pandas as pd\n",
    "import sklearn\n",
    "from sklearn import datasets, linear_model, metrics\n",
    "import matplotlib.pyplot as plt"
   ]
  },
  {
   "cell_type": "markdown",
   "metadata": {},
   "source": [
    "# Linear Regression Model"
   ]
  },
  {
   "cell_type": "code",
   "execution_count": 200,
   "metadata": {},
   "outputs": [],
   "source": [
    "alpha=0.0001\n",
    "max_iterations=1000000\n",
    "\n",
    "def initialize_with_zeros(dim):\n",
    "    w = np.zeros(shape=(dim, 1))\n",
    "    #b = np.zeros((1,))\n",
    "    b = np.zeros((1,))\n",
    "\n",
    "    return w, b\n",
    "\n",
    "def h(w,b,x):\n",
    "    y_pred = np.dot(x,w) + b\n",
    "    return y_pred\n",
    "\n",
    "def cost(w, b, x, y,y_pred ):\n",
    "    m= x.shape[0]\n",
    "    j= np.sum((y_pred-y)**2)/(2*m)\n",
    "    return j\n",
    "\n",
    "def gradient(x, y,y_pred ):\n",
    "    m = x.shape[0]\n",
    "    res = y_pred- y\n",
    "    dw = 1/m * np.dot(x.T,res)\n",
    "    db = 1/m * np.sum(res)\n",
    "    return dw,db\n",
    "\n",
    "def update_parameters(w,b,dw,db,alpha):\n",
    "    w = w - alpha * dw\n",
    "    b = b - alpha * db\n",
    "    return w,b\n",
    "\n",
    "def model(x,y):\n",
    "    loss = []\n",
    "\n",
    "    w,b = initialize_with_zeros(x.shape[1])\n",
    "    for i in range(max_iterations) :\n",
    "        y_pred=h(w,b,x)\n",
    "        #res= y_pred- y\n",
    "        j = cost(w,b, x, y,y_pred )\n",
    "        loss.append(j)\n",
    "        dw, db = gradient(x, y,y_pred)\n",
    "        w,b = update_parameters(w,b , dw,db,  alpha)\n",
    "        \n",
    "    return w,b,loss\n",
    "\n",
    "def my_r2_score(y,y_pred):\n",
    "    ssr = np.sum((y_pred - y)**2)\n",
    "    sst = np.sum((y - np.mean(y))**2)\n",
    "    r2_score = 1 - (ssr/sst)\n",
    "    return r2_score\n"
   ]
  },
  {
   "cell_type": "markdown",
   "metadata": {},
   "source": [
    "# Univariate Model"
   ]
  },
  {
   "cell_type": "code",
   "execution_count": 201,
   "metadata": {},
   "outputs": [
    {
     "name": "stdout",
     "output_type": "stream",
     "text": [
      "w,b [[0.69472416]] [1.43286332]\n",
      "my r2 score 0.8213156084065661\n"
     ]
    },
    {
     "data": {
      "text/plain": [
       "Text(0, 0.5, 'Loss')"
      ]
     },
     "execution_count": 201,
     "metadata": {},
     "output_type": "execute_result"
    },
    {
     "data": {
      "image/png": "[encoded data removed]",
      "text/plain": [
       "<Figure size 432x288 with 1 Axes>"
      ]
     },
     "metadata": {
      "needs_background": "light"
     },
     "output_type": "display_data"
    },
    {
     "data": {
      "image/png": "[encoded data removed]",
      "text/plain": [
       "<Figure size 432x288 with 1 Axes>"
      ]
     },
     "metadata": {
      "needs_background": "light"
     },
     "output_type": "display_data"
    }
   ],
   "source": [
    "data = pd.read_csv(\"RegData.csv\", header=None).to_numpy()\n",
    "x = np.array(data[:, 0]).reshape((data.shape[0]),1)\n",
    "y = np.array(data[:, 1]).reshape((data.shape[0]),1)\n",
    "w,b,loss = model(x,y)\n",
    "print(\"w,b\",w,b)\n",
    "\n",
    "\n",
    "r=my_r2_score(y, h(w,b,x))\n",
    "print(\"my r2 score\",r)\n",
    "\n",
    "\n",
    "plt.scatter(x, y)\n",
    "plt.scatter(x, h(w,b,x))\n",
    "fig1 = plt.figure(1)\n",
    "plt.title(\"Linear Regression single varible\")\n",
    "plt.xlabel(\"x\")\n",
    "plt.ylabel(\"y\")\n",
    "plt.legend([\"True\", \"Prediction\"], loc =\"lower right\")\n",
    "\n",
    "fig2 = plt.figure(2)\n",
    "plt.plot(np.arange(len(loss)),loss)\n",
    "plt.title(\"Loss vs no. of iterations\")\n",
    "plt.xlabel(\"no. of iterations\")\n",
    "plt.ylabel(\"Loss\")\n",
    "\n"
   ]
  },
  {
   "cell_type": "code",
   "execution_count": 202,
   "metadata": {},
   "outputs": [
    {
     "name": "stdout",
     "output_type": "stream",
     "text": [
      "Coefficients:  [[0.69452919]]\n",
      "slkr2 score 0.8213156778363775\n"
     ]
    }
   ],
   "source": [
    "#Checking using SKLEARN\n",
    "\n",
    "reg = linear_model.LinearRegression()\n",
    "reg.fit(x, y)\n",
    "print('Coefficients: ', reg.coef_)\n",
    "y_predicted=reg.predict(x)\n",
    "r1 = r2_score(y, y_predicted)\n",
    "print(\"slkr2 score\",r1)\n"
   ]
  },
  {
   "cell_type": "markdown",
   "metadata": {},
   "source": [
    "# Mltivariate Model"
   ]
  },
  {
   "cell_type": "code",
   "execution_count": 203,
   "metadata": {},
   "outputs": [
    {
     "name": "stdout",
     "output_type": "stream",
     "text": [
      "w2,b2 [[ 4.35678211e-09]\n",
      " [ 9.99998855e-01]\n",
      " [-3.79913235e-06]] [0.00040812]\n"
     ]
    }
   ],
   "source": [
    "data2 = pd.read_csv(\"MultipleLR.csv\", header=None)\n",
    "x2 = np.array(data2.iloc[:, 0:-1])\n",
    "y2 = np.array(data2.iloc[:, 1]).reshape((data2.shape[0]), 1)\n",
    "\n",
    "w2, b2 ,loss2= model(x2, y2)\n",
    "print(\"w2,b2\", w2, b2)\n",
    "\n"
   ]
  },
  {
   "cell_type": "code",
   "execution_count": 204,
   "metadata": {},
   "outputs": [
    {
     "name": "stdout",
     "output_type": "stream",
     "text": [
      "r2 score 0.9999999999786005\n"
     ]
    }
   ],
   "source": [
    "r2=r2_score(y2, h(w2,b2,x2))\n",
    "print(\"r2 score\",r2)\n",
    "\n"
   ]
  },
  {
   "cell_type": "code",
   "execution_count": 205,
   "metadata": {},
   "outputs": [
    {
     "data": {
      "text/plain": [
       "Text(0, 0.5, 'Loss')"
      ]
     },
     "execution_count": 205,
     "metadata": {},
     "output_type": "execute_result"
    },
    {
     "data": {
      "image/png": "[encoded data removed]",
      "text/plain": [
       "<Figure size 1080x360 with 3 Axes>"
      ]
     },
     "metadata": {
      "needs_background": "light"
     },
     "output_type": "display_data"
    },
    {
     "data": {
      "image/png": "[encoded data removed]",
      "text/plain": [
       "<Figure size 432x288 with 1 Axes>"
      ]
     },
     "metadata": {
      "needs_background": "light"
     },
     "output_type": "display_data"
    }
   ],
   "source": [
    "\n",
    "fig, a = plt.subplots(1, 3, figsize=(15, 5))\n",
    "fig.suptitle(\"Linear Regression multi varibles\")\n",
    "\n",
    "a[0].scatter(x2[:,0], y2)\n",
    "a[0].scatter(x2[:,0], h(w2, b2, x2))\n",
    "a[0].set(xlabel='X0', ylabel='y')\n",
    "\n",
    "a[1].scatter(x2[:,1], y2)\n",
    "a[1].scatter(x2[:,1], h(w2, b2, x2))\n",
    "a[1].set(xlabel='X1', ylabel='y')\n",
    "\n",
    "a[2].scatter(x2[:,2], y2)\n",
    "a[2].scatter(x2[:,2], h(w2, b2, x2))\n",
    "a[2].set(xlabel='X2', ylabel='y')\n",
    "\n",
    "fig3 = plt.figure(3)\n",
    "plt.plot(np.arange(len(loss)),loss)\n",
    "plt.title(\"Loss vs no. of iterations\")\n",
    "plt.xlabel(\"no. of iterations\")\n",
    "plt.ylabel(\"Loss\")"
   ]
  },
  {
   "cell_type": "code",
   "execution_count": 206,
   "metadata": {},
   "outputs": [
    {
     "name": "stdout",
     "output_type": "stream",
     "text": [
      "Coefficients:  [[-5.17792628e-16  1.00000000e+00 -4.83137305e-17]]\n",
      "slkr2 score 1.0\n"
     ]
    }
   ],
   "source": [
    "#Checking using SKLEARN\n",
    "reg2 = linear_model.LinearRegression()\n",
    "reg2.fit(x2, y2)\n",
    "print('Coefficients: ', reg2.coef_)\n",
    "\n",
    "y_predicted2=reg2.predict(x2)\n",
    "r2 = r2_score(y2, y_predicted2)\n",
    "print(\"slkr2 score\",r2)\n",
    "\n"
   ]
  },
  {
   "cell_type": "code",
   "execution_count": 207,
   "metadata": {},
   "outputs": [
    {
     "data": {
      "text/plain": [
       "[Text(0, 0.5, 'y'), Text(0.5, 0, 'X2')]"
      ]
     },
     "execution_count": 207,
     "metadata": {},
     "output_type": "execute_result"
    },
    {
     "data": {
      "image/png": "[encoded data removed]",
      "text/plain": [
       "<Figure size 1080x360 with 3 Axes>"
      ]
     },
     "metadata": {
      "needs_background": "light"
     },
     "output_type": "display_data"
    }
   ],
   "source": [
    "fig3, a1 = plt.subplots(1, 3, figsize=(15, 5))\n",
    "fig.suptitle(\"Linear Regression multi varibles\")\n",
    "\n",
    "a1[0].scatter(x2[:,0], y2)\n",
    "a1[0].scatter(x2[:,0], y_predicted2)\n",
    "a1[0].set(xlabel='X0', ylabel='y')\n",
    "\n",
    "a1[1].scatter(x2[:,1], y2)\n",
    "a1[1].scatter(x2[:,1], y_predicted2)\n",
    "a1[1].set(xlabel='X1', ylabel='y')\n",
    "\n",
    "a1[2].scatter(x2[:,2], y2)\n",
    "a1[2].scatter(x2[:,2], y_predicted2)\n",
    "a1[2].set(xlabel='X2', ylabel='y')\n",
    "\n"
   ]
  },
  {
   "cell_type": "code",
   "execution_count": 208,
   "metadata": {},
   "outputs": [
    {
     "data": {
      "text/plain": [
       "Text(0, 0.5, 'Loss ')"
      ]
     },
     "execution_count": 208,
     "metadata": {},
     "output_type": "execute_result"
    },
    {
     "data": {
      "image/png": "[encoded data removed]",
      "text/plain": [
       "<Figure size 432x288 with 1 Axes>"
      ]
     },
     "metadata": {
      "needs_background": "light"
     },
     "output_type": "display_data"
    }
   ],
   "source": [
    "fig3 =  plt.figure(3)\n",
    "plt.title('Loss vs no of iterations')\n",
    "plt.plot(loss2)\n",
    "\n",
    "plt.xlabel('no of iterations')\n",
    "plt.ylabel('Loss ')\n",
    "\n"
   ]
  },
  {
   "cell_type": "code",
   "execution_count": null,
   "metadata": {},
   "outputs": [],
   "source": []
  },
  {
   "cell_type": "code",
   "execution_count": null,
   "metadata": {},
   "outputs": [],
   "source": []
  }
 ],
 "metadata": {
  "kernelspec": {
   "display_name": "Python 3",
   "language": "python",
   "name": "python3"
  },
  "language_info": {
   "codemirror_mode": {
    "name": "ipython",
    "version": 3
   },
   "file_extension": ".py",
   "mimetype": "text/x-python",
   "name": "python",
   "nbconvert_exporter": "python",
   "pygments_lexer": "ipython3",
   "version": "3.7.6"
  },
  "varInspector": {
   "cols": {
    "lenName": 16,
    "lenType": 16,
    "lenVar": 40
   },
   "kernels_config": {
    "python": {
     "delete_cmd_postfix": "",
     "delete_cmd_prefix": "del ",
     "library": "var_list.py",
     "varRefreshCmd": "print(var_dic_list())"
    },
    "r": {
     "delete_cmd_postfix": ") ",
     "delete_cmd_prefix": "rm(",
     "library": "var_list.r",
     "varRefreshCmd": "cat(var_dic_list()) "
    }
   },
   "types_to_exclude": [
    "module",
    "function",
    "builtin_function_or_method",
    "instance",
    "_Feature"
   ],
   "window_display": false
  }
 },
 "nbformat": 4,
 "nbformat_minor": 4
}
